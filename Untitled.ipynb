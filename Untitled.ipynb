{
 "cells": [
  {
   "cell_type": "code",
   "execution_count": 3,
   "id": "17192480",
   "metadata": {},
   "outputs": [
    {
     "data": {
      "image/png": "[encoded data removed]",
      "text/plain": [
       "<Figure size 432x288 with 1 Axes>"
      ]
     },
     "metadata": {
      "needs_background": "light"
     },
     "output_type": "display_data"
    }
   ],
   "source": [
    "import pandas as pd\n",
    "from matplotlib import pyplot as plt\n",
    "\n",
    "num_measurements = 25\n",
    "\n",
    "# read data from file\n",
    "def read_data():\n",
    "    data = pd.read_csv('temperatures.csv', nrows=num_measurements)\n",
    "    temperatures = data['Air temperature (degC)']\n",
    "    return temperatures\n",
    "\n",
    "# compute statistics\n",
    "def compute_stat(temperatures):\n",
    "    mean = sum(temperatures)/num_measurements\n",
    "    return mean\n",
    "    \n",
    "# plot results\n",
    "def plotting(temperatures, mean):\n",
    "    plt.plot(temperatures, 'r-')\n",
    "    plt.xlabel(\"Measurement time\")\n",
    "    plt.ylabel(\"Temeprature °C\")\n",
    "    plt.axhline(y=mean, color='b', linestyle='--')\n",
    "    plt.savefig('Plot.png')\n",
    "    \n",
    "    \n",
    "#Main!!#\n",
    "temperatures = read_data()\n",
    "mean = compute_stat(temperatures)\n",
    "plotting(temperatures,mean)\n",
    "\n",
    "\n",
    "    \n"
   ]
  },
  {
   "cell_type": "code",
   "execution_count": 4,
   "id": "fdd2b421",
   "metadata": {},
   "outputs": [
    {
     "data": {
      "text/plain": [
       "0    -0.2\n",
       "1    -0.3\n",
       "2    -0.7\n",
       "3    -0.8\n",
       "4    -0.8\n",
       "5    -1.3\n",
       "6    -1.0\n",
       "7    -0.7\n",
       "8     0.5\n",
       "9     1.5\n",
       "10    2.7\n",
       "11    3.2\n",
       "12    3.2\n",
       "13    3.2\n",
       "14    2.5\n",
       "15    1.4\n",
       "16    0.7\n",
       "17   -0.2\n",
       "18   -1.1\n",
       "19   -2.4\n",
       "20   -2.6\n",
       "21   -1.9\n",
       "22   -1.9\n",
       "23   -2.6\n",
       "24   -1.7\n",
       "Name: Air temperature (degC), dtype: float64"
      ]
     },
     "execution_count": 4,
     "metadata": {},
     "output_type": "execute_result"
    }
   ],
   "source": [
    "temperatures"
   ]
  },
  {
   "cell_type": "code",
   "execution_count": null,
   "id": "ba315c2b",
   "metadata": {},
   "outputs": [],
   "source": []
  }
 ],
 "metadata": {
  "kernelspec": {
   "display_name": "Python 3",
   "language": "python",
   "name": "python3"
  },
  "language_info": {
   "codemirror_mode": {
    "name": "ipython",
    "version": 3
   },
   "file_extension": ".py",
   "mimetype": "text/x-python",
   "name": "python",
   "nbconvert_exporter": "python",
   "pygments_lexer": "ipython3",
   "version": "3.9.1"
  }
 },
 "nbformat": 4,
 "nbformat_minor": 5
}
